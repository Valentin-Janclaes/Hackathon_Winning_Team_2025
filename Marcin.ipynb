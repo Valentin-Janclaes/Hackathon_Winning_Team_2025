{
 "cells": [
  {
   "cell_type": "code",
   "execution_count": null,
   "id": "08c7be90",
   "metadata": {},
   "outputs": [],
   "source": [
    "test "
   ]
  }
 ],
 "metadata": {
  "language_info": {
   "name": "python"
  }
 },
 "nbformat": 4,
 "nbformat_minor": 5
}
