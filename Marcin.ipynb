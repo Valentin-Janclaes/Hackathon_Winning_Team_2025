{
 "cells": [
  {
   "cell_type": "code",
   "execution_count": null,
   "id": "08c7be90",
   "metadata": {},
   "outputs": [],
   "source": [
    "#read in data\n",
    "import pandas as pd\n",
    "\n",
    "# Replace with your actual file path\n",
    "file_path = \"Snifftime data_March15.2019_example_withIndividualSniffsTBdetectionRats_DataVariableKey.csv\"\n",
    "\n",
    "# Read the CSV file\n",
    "df = pd.read_csv(file_path)\n",
    "\n",
    "# Display the first few rows\n",
    "print(df.head())\n"
   ]
  }
 ],
 "metadata": {
  "language_info": {
   "name": "python"
  }
 },
 "nbformat": 4,
 "nbformat_minor": 5
}
