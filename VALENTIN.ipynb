{
 "cells": [
  {
   "cell_type": "markdown",
   "id": "180d24c5",
   "metadata": {},
   "source": [
    "# 1. Reading in the data"
   ]
  },
  {
   "cell_type": "code",
   "execution_count": 1,
   "id": "c1d11fe6",
   "metadata": {},
   "outputs": [],
   "source": [
    "import pandas as pd"
   ]
  },
  {
   "cell_type": "code",
   "execution_count": 2,
   "id": "1e818a39",
   "metadata": {},
   "outputs": [],
   "source": [
    "# read in full_data.parquet as a df called df_linec\n",
    "df_linec = pd.read_parquet('full_data.parquet')"
   ]
  },
  {
   "cell_type": "code",
   "execution_count": 3,
   "id": "cc4919ae",
   "metadata": {},
   "outputs": [
    {
     "data": {
      "application/vnd.microsoft.datawrangler.viewer.v0+json": {
       "columns": [
        {
         "name": "index",
         "rawType": "int64",
         "type": "integer"
        },
        {
         "name": "SESSION_DATE",
         "rawType": "object",
         "type": "string"
        },
        {
         "name": "SniffTime",
         "rawType": "int64",
         "type": "integer"
        },
        {
         "name": "age",
         "rawType": "float64",
         "type": "float"
        },
        {
         "name": "ReadTotalSnifftime",
         "rawType": "object",
         "type": "unknown"
        },
        {
         "name": "id_rat",
         "rawType": "float64",
         "type": "float"
        },
        {
         "name": "rat_name",
         "rawType": "object",
         "type": "string"
        },
        {
         "name": "birth_date",
         "rawType": "datetime64[ns]",
         "type": "datetime"
        },
        {
         "name": "gender",
         "rawType": "object",
         "type": "string"
        },
        {
         "name": "weight",
         "rawType": "float64",
         "type": "float"
        },
        {
         "name": "temperature",
         "rawType": "float64",
         "type": "float"
        },
        {
         "name": "id_sample",
         "rawType": "int64",
         "type": "integer"
        },
        {
         "name": "tb",
         "rawType": "bool",
         "type": "boolean"
        },
        {
         "name": "hit",
         "rawType": "bool",
         "type": "boolean"
        },
        {
         "name": "match_flag",
         "rawType": "object",
         "type": "unknown"
        },
        {
         "name": "SniffThreshold'",
         "rawType": "float64",
         "type": "float"
        }
       ],
       "ref": "186637b9-a5f2-45f5-9a1d-91d2c15d014c",
       "rows": [
        [
         "0",
         "2016-11-03 00:00:00",
         "0",
         "2.0",
         null,
         "98.0",
         "Stephen",
         "2014-07-21 00:00:00",
         "M",
         null,
         "30.5",
         "515562",
         "False",
         "False",
         null,
         "0.0"
        ],
        [
         "1",
         "2016-11-03 00:00:00",
         "0",
         "2.0",
         null,
         "98.0",
         "Stephen",
         "2014-07-21 00:00:00",
         "M",
         null,
         "30.5",
         "515546",
         "False",
         "False",
         null,
         "0.0"
        ],
        [
         "2",
         "2016-11-03 00:00:00",
         "0",
         "2.0",
         null,
         "98.0",
         "Stephen",
         "2014-07-21 00:00:00",
         "M",
         null,
         "30.5",
         "515422",
         "False",
         "False",
         null,
         "0.0"
        ],
        [
         "3",
         "2016-11-03 00:00:00",
         "0",
         "2.0",
         null,
         "98.0",
         "Stephen",
         "2014-07-21 00:00:00",
         "M",
         null,
         "30.5",
         "515559",
         "False",
         "False",
         null,
         "0.0"
        ],
        [
         "4",
         "2016-11-03 00:00:00",
         "0",
         "2.0",
         null,
         "98.0",
         "Stephen",
         "2014-07-21 00:00:00",
         "M",
         null,
         "30.5",
         "515553",
         "False",
         "False",
         null,
         "0.0"
        ]
       ],
       "shape": {
        "columns": 15,
        "rows": 5
       }
      },
      "text/html": [
       "<div>\n",
       "<style scoped>\n",
       "    .dataframe tbody tr th:only-of-type {\n",
       "        vertical-align: middle;\n",
       "    }\n",
       "\n",
       "    .dataframe tbody tr th {\n",
       "        vertical-align: top;\n",
       "    }\n",
       "\n",
       "    .dataframe thead th {\n",
       "        text-align: right;\n",
       "    }\n",
       "</style>\n",
       "<table border=\"1\" class=\"dataframe\">\n",
       "  <thead>\n",
       "    <tr style=\"text-align: right;\">\n",
       "      <th></th>\n",
       "      <th>SESSION_DATE</th>\n",
       "      <th>SniffTime</th>\n",
       "      <th>age</th>\n",
       "      <th>ReadTotalSnifftime</th>\n",
       "      <th>id_rat</th>\n",
       "      <th>rat_name</th>\n",
       "      <th>birth_date</th>\n",
       "      <th>gender</th>\n",
       "      <th>weight</th>\n",
       "      <th>temperature</th>\n",
       "      <th>id_sample</th>\n",
       "      <th>tb</th>\n",
       "      <th>hit</th>\n",
       "      <th>match_flag</th>\n",
       "      <th>SniffThreshold'</th>\n",
       "    </tr>\n",
       "  </thead>\n",
       "  <tbody>\n",
       "    <tr>\n",
       "      <th>0</th>\n",
       "      <td>2016-11-03 00:00:00</td>\n",
       "      <td>0</td>\n",
       "      <td>2.0</td>\n",
       "      <td>None</td>\n",
       "      <td>98.0</td>\n",
       "      <td>Stephen</td>\n",
       "      <td>2014-07-21</td>\n",
       "      <td>M</td>\n",
       "      <td>NaN</td>\n",
       "      <td>30.5</td>\n",
       "      <td>515562</td>\n",
       "      <td>False</td>\n",
       "      <td>False</td>\n",
       "      <td>None</td>\n",
       "      <td>0.0</td>\n",
       "    </tr>\n",
       "    <tr>\n",
       "      <th>1</th>\n",
       "      <td>2016-11-03 00:00:00</td>\n",
       "      <td>0</td>\n",
       "      <td>2.0</td>\n",
       "      <td>None</td>\n",
       "      <td>98.0</td>\n",
       "      <td>Stephen</td>\n",
       "      <td>2014-07-21</td>\n",
       "      <td>M</td>\n",
       "      <td>NaN</td>\n",
       "      <td>30.5</td>\n",
       "      <td>515546</td>\n",
       "      <td>False</td>\n",
       "      <td>False</td>\n",
       "      <td>None</td>\n",
       "      <td>0.0</td>\n",
       "    </tr>\n",
       "    <tr>\n",
       "      <th>2</th>\n",
       "      <td>2016-11-03 00:00:00</td>\n",
       "      <td>0</td>\n",
       "      <td>2.0</td>\n",
       "      <td>None</td>\n",
       "      <td>98.0</td>\n",
       "      <td>Stephen</td>\n",
       "      <td>2014-07-21</td>\n",
       "      <td>M</td>\n",
       "      <td>NaN</td>\n",
       "      <td>30.5</td>\n",
       "      <td>515422</td>\n",
       "      <td>False</td>\n",
       "      <td>False</td>\n",
       "      <td>None</td>\n",
       "      <td>0.0</td>\n",
       "    </tr>\n",
       "    <tr>\n",
       "      <th>3</th>\n",
       "      <td>2016-11-03 00:00:00</td>\n",
       "      <td>0</td>\n",
       "      <td>2.0</td>\n",
       "      <td>None</td>\n",
       "      <td>98.0</td>\n",
       "      <td>Stephen</td>\n",
       "      <td>2014-07-21</td>\n",
       "      <td>M</td>\n",
       "      <td>NaN</td>\n",
       "      <td>30.5</td>\n",
       "      <td>515559</td>\n",
       "      <td>False</td>\n",
       "      <td>False</td>\n",
       "      <td>None</td>\n",
       "      <td>0.0</td>\n",
       "    </tr>\n",
       "    <tr>\n",
       "      <th>4</th>\n",
       "      <td>2016-11-03 00:00:00</td>\n",
       "      <td>0</td>\n",
       "      <td>2.0</td>\n",
       "      <td>None</td>\n",
       "      <td>98.0</td>\n",
       "      <td>Stephen</td>\n",
       "      <td>2014-07-21</td>\n",
       "      <td>M</td>\n",
       "      <td>NaN</td>\n",
       "      <td>30.5</td>\n",
       "      <td>515553</td>\n",
       "      <td>False</td>\n",
       "      <td>False</td>\n",
       "      <td>None</td>\n",
       "      <td>0.0</td>\n",
       "    </tr>\n",
       "  </tbody>\n",
       "</table>\n",
       "</div>"
      ],
      "text/plain": [
       "          SESSION_DATE  SniffTime  age ReadTotalSnifftime  id_rat rat_name  \\\n",
       "0  2016-11-03 00:00:00          0  2.0               None    98.0  Stephen   \n",
       "1  2016-11-03 00:00:00          0  2.0               None    98.0  Stephen   \n",
       "2  2016-11-03 00:00:00          0  2.0               None    98.0  Stephen   \n",
       "3  2016-11-03 00:00:00          0  2.0               None    98.0  Stephen   \n",
       "4  2016-11-03 00:00:00          0  2.0               None    98.0  Stephen   \n",
       "\n",
       "  birth_date gender  weight  temperature  id_sample     tb    hit match_flag  \\\n",
       "0 2014-07-21      M     NaN         30.5     515562  False  False       None   \n",
       "1 2014-07-21      M     NaN         30.5     515546  False  False       None   \n",
       "2 2014-07-21      M     NaN         30.5     515422  False  False       None   \n",
       "3 2014-07-21      M     NaN         30.5     515559  False  False       None   \n",
       "4 2014-07-21      M     NaN         30.5     515553  False  False       None   \n",
       "\n",
       "   SniffThreshold'  \n",
       "0              0.0  \n",
       "1              0.0  \n",
       "2              0.0  \n",
       "3              0.0  \n",
       "4              0.0  "
      ]
     },
     "execution_count": 3,
     "metadata": {},
     "output_type": "execute_result"
    }
   ],
   "source": [
    "df_linec.head()"
   ]
  },
  {
   "cell_type": "code",
   "execution_count": 4,
   "id": "0fa93a06",
   "metadata": {},
   "outputs": [
    {
     "name": "stdout",
     "output_type": "stream",
     "text": [
      "Unique SESSION_DATE values: ['2016-11-03 00:00:00' '2016-09-01 00:00:00' '2016-09-05 00:00:00'\n",
      " '2016-09-07 00:00:00' '2016-09-02 00:00:00' '2016-09-06 00:00:00'\n",
      " '2016-09-08 00:00:00' '2016-09-15 00:00:00' '2016-09-16 00:00:00'\n",
      " '2016-09-09 00:00:00' '2016-09-13 00:00:00' '2016-09-14 00:00:00'\n",
      " '2016-09-20 00:00:00' '2016-09-21 00:00:00' '2016-09-22 00:00:00'\n",
      " '2016-09-29 00:00:00' '2016-09-27 00:00:00' '2016-09-28 00:00:00'\n",
      " '2016-10-03 00:00:00' '2016-10-05 00:00:00' '2016-10-06 00:00:00'\n",
      " '2016-10-07 00:00:00' '2016-10-13 00:00:00' '2016-09-30 00:00:00'\n",
      " '2016-10-18 00:00:00' '2016-10-20 00:00:00' '2016-10-24 00:00:00'\n",
      " '2016-09-26 00:00:00' '2016-10-10 00:00:00' '2016-10-11 00:00:00'\n",
      " '2016-10-12 00:00:00' '2016-10-17 00:00:00' '2016-10-19 00:00:00'\n",
      " '2016-12-01 00:00:00' '2016-10-21 00:00:00' '2016-10-28 00:00:00'\n",
      " '2016-12-02 00:00:00' '2016-12-05 00:00:00' '2016-12-06 00:00:00'\n",
      " '2016-10-31 00:00:00' '2016-11-01 00:00:00' '2016-11-02 00:00:00'\n",
      " '2016-11-29 00:00:00' '2019-03-15 00:00:00' '45170' '45173' '45174'\n",
      " '45175' '45176' '45177' '45181' '45187' '45182' '45183' '45184' '45188'\n",
      " '45189' '45190' '45191' '45195' '45194' '45196' '45198' '45201' '45202'\n",
      " '45203' '45204' '45205' '45208' '45209' '45210' '45211' '45212' '45215'\n",
      " '45216' '45217' '45218' '45219' '45222' '45223' '45224' '45225' '45226'\n",
      " '45229' '45230' '45231' '45232' '45233' '45237' '45236' '45238' '45239'\n",
      " '45240' '45243' '45244' '45245' '45246' '45247' '45250' '45251' '45253'\n",
      " '45252' '45254' '45257' '45258' '45259' '45260' '45261' '45264' '45265'\n",
      " '45267' '45266' '45268' '45271' '45272' '45273' '45274' '45275' '45278'\n",
      " '45279' '45280' '45281' '45282' '45294' '45295' '45296' '45299' '45300'\n",
      " '45301' '45302' '45306' '45307' '45308' '45309' '45310' '45313' '45314'\n",
      " '45315' '45316' '45321' '45320' '45322' '45323' '45324' '45327' '45328'\n",
      " '45329' '45330' '45331' '45334' '45335' '45336' '45337' '45338' '45341'\n",
      " '45342' '45343' '45344' '45345' '45348' '45349' '45350' '45351' '45352'\n",
      " '45355' '45357' '45356' '45358' '45359' '45363' '45364' '45362' '45365'\n",
      " '45366' '45369' '45370' '45371' '45372' '45373' '45376' '45378' '45379'\n",
      " '45384' '45385' '45386' '45387' '45390' '45391' '45394' '45397' '45398'\n",
      " '45399' '45400' '45401' '45404' '45405' '45407' '45411' '45412' '45414'\n",
      " '45415' '45418' '45419' '45421' '45422' '45425' '45426' '45427' '45428'\n",
      " '45429' '45432' '45433' '45434' '45435' '45436' '45439' '45440' '45441'\n",
      " '45442' '45443' '45446' '45447' '45448' '45449' '45450' '45453' '45454'\n",
      " '45455' '45456' '45457' '45461' '45462' '45463' '45464' '45467' '45468'\n",
      " '45469' '45470' '45471' '45474' '45475' '45477' '45478' '45481' '45482'\n",
      " '45483' '45484' '45485' '45488' '45489' '45490' '45491' '45492' '45497'\n",
      " '45498' '45499' '45502' '45503' '45504' '45505' '45506' '45509' '45510'\n",
      " '45511' '45513' '45516' '45517' '45519' '45520' '45523' '45524' '45525'\n",
      " '45526' '45527' '45530' '45531' '45532' '45533' '45534' '45537' '45538'\n",
      " '45539' '45540' '45541' '45544' '45545' '45546' '45547' '45548' '45552'\n",
      " '45553' '45554' '45555' '45559' '45560' '45561' '45562' '45565']\n"
     ]
    }
   ],
   "source": [
    "# make a list of all unique session date values\n",
    "session_dates = df_linec['SESSION_DATE'].unique()\n",
    "print(f\"Unique SESSION_DATE values: {session_dates}\")\n"
   ]
  },
  {
   "cell_type": "code",
   "execution_count": 5,
   "id": "091705dd",
   "metadata": {},
   "outputs": [
    {
     "name": "stderr",
     "output_type": "stream",
     "text": [
      "C:\\Users\\ValentinJanclaes\\AppData\\Local\\Temp\\ipykernel_9152\\2523619785.py:14: UserWarning: The argument 'infer_datetime_format' is deprecated and will be removed in a future version. A strict version of it is now the default, see https://pandas.pydata.org/pdeps/0004-consistent-to-datetime-parsing.html. You can safely remove this argument.\n",
      "  return pd.to_datetime(val, errors='coerce', infer_datetime_format=True)\n"
     ]
    }
   ],
   "source": [
    "import pandas as pd\n",
    "import numpy as np\n",
    "\n",
    "def convert_mixed_dates(val):\n",
    "    try:\n",
    "        # If numeric (int/float), treat as Excel serial\n",
    "        if isinstance(val, (int, float, np.integer, np.floating)):\n",
    "            return pd.to_datetime('1899-12-30') + pd.to_timedelta(val, unit='D')\n",
    "        # If string, check if it’s numeric (Excel serial stored as string)\n",
    "        elif val.isdigit():\n",
    "            return pd.to_datetime('1899-12-30') + pd.to_timedelta(int(val), unit='D')\n",
    "        else:\n",
    "            # Else, try to parse normally\n",
    "            return pd.to_datetime(val, errors='coerce', infer_datetime_format=True)\n",
    "    except:\n",
    "        return pd.NaT\n",
    "\n",
    "df_linec[\"SESSION_DATE\"] = df_linec[\"SESSION_DATE\"].apply(convert_mixed_dates)\n"
   ]
  },
  {
   "cell_type": "code",
   "execution_count": 6,
   "id": "a9c6060c",
   "metadata": {},
   "outputs": [
    {
     "name": "stdout",
     "output_type": "stream",
     "text": [
      "Unique SESSION_DATE values: <DatetimeArray>\n",
      "['2016-11-03 00:00:00', '2016-09-01 00:00:00', '2016-09-05 00:00:00',\n",
      " '2016-09-07 00:00:00', '2016-09-02 00:00:00', '2016-09-06 00:00:00',\n",
      " '2016-09-08 00:00:00', '2016-09-15 00:00:00', '2016-09-16 00:00:00',\n",
      " '2016-09-09 00:00:00',\n",
      " ...\n",
      " '2024-09-13 00:00:00', '2024-09-17 00:00:00', '2024-09-18 00:00:00',\n",
      " '2024-09-19 00:00:00', '2024-09-20 00:00:00', '2024-09-24 00:00:00',\n",
      " '2024-09-25 00:00:00', '2024-09-26 00:00:00', '2024-09-27 00:00:00',\n",
      " '2024-09-30 00:00:00']\n",
      "Length: 298, dtype: datetime64[ns]\n"
     ]
    }
   ],
   "source": [
    "# make a list of all unique session date values\n",
    "session_dates = df_linec['SESSION_DATE'].unique()\n",
    "print(f\"Unique SESSION_DATE values: {session_dates}\")\n"
   ]
  },
  {
   "cell_type": "markdown",
   "id": "e8af3513",
   "metadata": {},
   "source": [
    "# 2. Profiling the rats"
   ]
  },
  {
   "cell_type": "code",
   "execution_count": 7,
   "id": "5751d182",
   "metadata": {},
   "outputs": [],
   "source": [
    "import pandas as pd\n",
    "from typing import Literal\n",
    "\n",
    "def fill_weights_day_level(\n",
    "    df: pd.DataFrame,\n",
    "    name_col: str = \"rat_name\",\n",
    "    date_col: str = \"SESSION_DATE\",\n",
    "    weight_col: str = \"weight\",\n",
    "    agg: Literal[\"mean\", \"first\"] = \"mean\"\n",
    ") -> pd.DataFrame:\n",
    "    \"\"\"\n",
    "    Return a copy of df where missing WEIGHT values are filled on a day-level:\n",
    "      - Leading days (before first known) are filled with first known weight.\n",
    "      - Trailing days (after last known) are filled with last known weight.\n",
    "      - Internal missing days are linearly interpolated based on calendar days.\n",
    "    The original rows are preserved; only WEIGHT is filled where missing.\n",
    "    \"\"\"\n",
    "    df = df.copy()\n",
    "    # normalize to midnight datetimes so we have proper DatetimeIndex behavior\n",
    "    df[date_col] = pd.to_datetime(df[date_col]).dt.normalize()\n",
    "\n",
    "    # choose aggregator for days (mean or first)\n",
    "    agg_func = \"mean\" if agg == \"mean\" else \"first\"\n",
    "\n",
    "    filled_mappings = []  # will collect per-name mappings (date -> filled weight)\n",
    "\n",
    "    for name, g in df.groupby(name_col):\n",
    "        # daily aggregated known values (only for dates that exist in raw data)\n",
    "        daily_known = g.groupby(date_col)[weight_col].agg(agg_func)\n",
    "        # ensure index is DatetimeIndex normalized\n",
    "        daily_known.index = pd.to_datetime(daily_known.index).normalize()\n",
    "\n",
    "        start = g[date_col].min()\n",
    "        end = g[date_col].max()\n",
    "        full_idx = pd.date_range(start, end, freq=\"D\")\n",
    "\n",
    "        # series with full calendar index for this rat\n",
    "        day_series = pd.Series(index=full_idx, dtype=float)\n",
    "        # assign known values (days that had rows; may be NaN if all rows that day were NaN)\n",
    "        day_series.loc[daily_known.index] = daily_known.values\n",
    "\n",
    "        # find first/last actual known (non-NaN) values\n",
    "        first_valid = day_series.first_valid_index()\n",
    "        last_valid = day_series.last_valid_index()\n",
    "\n",
    "        if first_valid is None:\n",
    "            # No known weights at all for this rat: leave NaNs (nothing to interpolate/propagate)\n",
    "            # Map back to rows so merge keeps alignment\n",
    "            mapping = pd.DataFrame({\n",
    "                date_col: g[date_col].unique(),\n",
    "                name_col: name,\n",
    "                \"WEIGHT_FILLED\": [float(\"nan\")] * g[date_col].nunique()\n",
    "            })\n",
    "            filled_mappings.append(mapping)\n",
    "            continue\n",
    "\n",
    "        # Fill leading days (before first_known) with first_known, and trailing after last_known with last_known\n",
    "        # (this only affects outside the known-range)\n",
    "        day_series.loc[:first_valid] = day_series.loc[first_valid]\n",
    "        day_series.loc[last_valid:] = day_series.loc[last_valid]\n",
    "\n",
    "        # Now interpolate only the internal NaNs using time-aware interpolation\n",
    "        day_series = day_series.interpolate(method=\"time\")\n",
    "\n",
    "        # Build mapping DataFrame for dates that actually exist in g\n",
    "        unique_dates = pd.Series(g[date_col].unique()).dt.normalize()\n",
    "        mapping = pd.DataFrame({date_col: unique_dates})\n",
    "        mapping[name_col] = name\n",
    "        # map date -> interpolated day weight\n",
    "        mapping[\"WEIGHT_FILLED\"] = mapping[date_col].map(day_series)\n",
    "        filled_mappings.append(mapping)\n",
    "\n",
    "    # combine mappings and merge back to original\n",
    "    mapping_all = pd.concat(filled_mappings, ignore_index=True)\n",
    "    # ensure datatypes align for merge\n",
    "    mapping_all[date_col] = pd.to_datetime(mapping_all[date_col]).dt.normalize()\n",
    "    df = df.merge(mapping_all, on=[name_col, date_col], how=\"left\")\n",
    "\n",
    "    # fill original WEIGHT only where missing\n",
    "    df[weight_col] = df[weight_col].fillna(df[\"WEIGHT_FILLED\"])\n",
    "    df = df.drop(columns=[\"WEIGHT_FILLED\"])\n",
    "\n",
    "    return df\n"
   ]
  },
  {
   "cell_type": "code",
   "execution_count": 8,
   "id": "1c51dd35",
   "metadata": {},
   "outputs": [],
   "source": [
    "# Make sure SESSION_DATE is datetime and WEIGHT is numeric\n",
    "df_linec[\"SESSION_DATE\"] = pd.to_datetime(df_linec[\"SESSION_DATE\"])\n",
    "df_linec[\"weight\"] = pd.to_numeric(df_linec[\"weight\"], errors=\"coerce\")\n",
    "\n",
    "# Apply the function from above\n",
    "df_linec_filled = fill_weights_day_level(\n",
    "    df_linec,\n",
    "    name_col=\"rat_name\",\n",
    "    date_col=\"SESSION_DATE\",\n",
    "    weight_col=\"weight\",\n",
    "    agg=\"first\"   # or \"mean\" if you prefer daily average\n",
    ")\n",
    "\n",
    "# Now df_linec_filled has WEIGHT filled on day-level\n"
   ]
  },
  {
   "cell_type": "code",
   "execution_count": 9,
   "id": "5d623d1e",
   "metadata": {},
   "outputs": [
    {
     "data": {
      "application/vnd.microsoft.datawrangler.viewer.v0+json": {
       "columns": [
        {
         "name": "index",
         "rawType": "int64",
         "type": "integer"
        },
        {
         "name": "SESSION_DATE",
         "rawType": "datetime64[ns]",
         "type": "datetime"
        },
        {
         "name": "SniffTime",
         "rawType": "int64",
         "type": "integer"
        },
        {
         "name": "age",
         "rawType": "float64",
         "type": "float"
        },
        {
         "name": "ReadTotalSnifftime",
         "rawType": "object",
         "type": "unknown"
        },
        {
         "name": "id_rat",
         "rawType": "float64",
         "type": "float"
        },
        {
         "name": "rat_name",
         "rawType": "object",
         "type": "string"
        },
        {
         "name": "birth_date",
         "rawType": "datetime64[ns]",
         "type": "datetime"
        },
        {
         "name": "gender",
         "rawType": "object",
         "type": "string"
        },
        {
         "name": "weight",
         "rawType": "float64",
         "type": "float"
        },
        {
         "name": "temperature",
         "rawType": "float64",
         "type": "float"
        },
        {
         "name": "id_sample",
         "rawType": "int64",
         "type": "integer"
        },
        {
         "name": "tb",
         "rawType": "bool",
         "type": "boolean"
        },
        {
         "name": "hit",
         "rawType": "bool",
         "type": "boolean"
        },
        {
         "name": "match_flag",
         "rawType": "object",
         "type": "unknown"
        },
        {
         "name": "SniffThreshold'",
         "rawType": "float64",
         "type": "float"
        }
       ],
       "ref": "8fbec8a8-eb14-4394-aec6-0776d67b4867",
       "rows": [
        [
         "0",
         "2016-11-03 00:00:00",
         "0",
         "2.0",
         null,
         "98.0",
         "Stephen",
         "2014-07-21 00:00:00",
         "M",
         "866.4285714285714",
         "30.5",
         "515562",
         "False",
         "False",
         null,
         "0.0"
        ],
        [
         "1",
         "2016-11-03 00:00:00",
         "0",
         "2.0",
         null,
         "98.0",
         "Stephen",
         "2014-07-21 00:00:00",
         "M",
         "866.4285714285714",
         "30.5",
         "515546",
         "False",
         "False",
         null,
         "0.0"
        ],
        [
         "2",
         "2016-11-03 00:00:00",
         "0",
         "2.0",
         null,
         "98.0",
         "Stephen",
         "2014-07-21 00:00:00",
         "M",
         "866.4285714285714",
         "30.5",
         "515422",
         "False",
         "False",
         null,
         "0.0"
        ],
        [
         "3",
         "2016-11-03 00:00:00",
         "0",
         "2.0",
         null,
         "98.0",
         "Stephen",
         "2014-07-21 00:00:00",
         "M",
         "866.4285714285714",
         "30.5",
         "515559",
         "False",
         "False",
         null,
         "0.0"
        ],
        [
         "4",
         "2016-11-03 00:00:00",
         "0",
         "2.0",
         null,
         "98.0",
         "Stephen",
         "2014-07-21 00:00:00",
         "M",
         "866.4285714285714",
         "30.5",
         "515553",
         "False",
         "False",
         null,
         "0.0"
        ]
       ],
       "shape": {
        "columns": 15,
        "rows": 5
       }
      },
      "text/html": [
       "<div>\n",
       "<style scoped>\n",
       "    .dataframe tbody tr th:only-of-type {\n",
       "        vertical-align: middle;\n",
       "    }\n",
       "\n",
       "    .dataframe tbody tr th {\n",
       "        vertical-align: top;\n",
       "    }\n",
       "\n",
       "    .dataframe thead th {\n",
       "        text-align: right;\n",
       "    }\n",
       "</style>\n",
       "<table border=\"1\" class=\"dataframe\">\n",
       "  <thead>\n",
       "    <tr style=\"text-align: right;\">\n",
       "      <th></th>\n",
       "      <th>SESSION_DATE</th>\n",
       "      <th>SniffTime</th>\n",
       "      <th>age</th>\n",
       "      <th>ReadTotalSnifftime</th>\n",
       "      <th>id_rat</th>\n",
       "      <th>rat_name</th>\n",
       "      <th>birth_date</th>\n",
       "      <th>gender</th>\n",
       "      <th>weight</th>\n",
       "      <th>temperature</th>\n",
       "      <th>id_sample</th>\n",
       "      <th>tb</th>\n",
       "      <th>hit</th>\n",
       "      <th>match_flag</th>\n",
       "      <th>SniffThreshold'</th>\n",
       "    </tr>\n",
       "  </thead>\n",
       "  <tbody>\n",
       "    <tr>\n",
       "      <th>0</th>\n",
       "      <td>2016-11-03</td>\n",
       "      <td>0</td>\n",
       "      <td>2.0</td>\n",
       "      <td>None</td>\n",
       "      <td>98.0</td>\n",
       "      <td>Stephen</td>\n",
       "      <td>2014-07-21</td>\n",
       "      <td>M</td>\n",
       "      <td>866.428571</td>\n",
       "      <td>30.5</td>\n",
       "      <td>515562</td>\n",
       "      <td>False</td>\n",
       "      <td>False</td>\n",
       "      <td>None</td>\n",
       "      <td>0.0</td>\n",
       "    </tr>\n",
       "    <tr>\n",
       "      <th>1</th>\n",
       "      <td>2016-11-03</td>\n",
       "      <td>0</td>\n",
       "      <td>2.0</td>\n",
       "      <td>None</td>\n",
       "      <td>98.0</td>\n",
       "      <td>Stephen</td>\n",
       "      <td>2014-07-21</td>\n",
       "      <td>M</td>\n",
       "      <td>866.428571</td>\n",
       "      <td>30.5</td>\n",
       "      <td>515546</td>\n",
       "      <td>False</td>\n",
       "      <td>False</td>\n",
       "      <td>None</td>\n",
       "      <td>0.0</td>\n",
       "    </tr>\n",
       "    <tr>\n",
       "      <th>2</th>\n",
       "      <td>2016-11-03</td>\n",
       "      <td>0</td>\n",
       "      <td>2.0</td>\n",
       "      <td>None</td>\n",
       "      <td>98.0</td>\n",
       "      <td>Stephen</td>\n",
       "      <td>2014-07-21</td>\n",
       "      <td>M</td>\n",
       "      <td>866.428571</td>\n",
       "      <td>30.5</td>\n",
       "      <td>515422</td>\n",
       "      <td>False</td>\n",
       "      <td>False</td>\n",
       "      <td>None</td>\n",
       "      <td>0.0</td>\n",
       "    </tr>\n",
       "    <tr>\n",
       "      <th>3</th>\n",
       "      <td>2016-11-03</td>\n",
       "      <td>0</td>\n",
       "      <td>2.0</td>\n",
       "      <td>None</td>\n",
       "      <td>98.0</td>\n",
       "      <td>Stephen</td>\n",
       "      <td>2014-07-21</td>\n",
       "      <td>M</td>\n",
       "      <td>866.428571</td>\n",
       "      <td>30.5</td>\n",
       "      <td>515559</td>\n",
       "      <td>False</td>\n",
       "      <td>False</td>\n",
       "      <td>None</td>\n",
       "      <td>0.0</td>\n",
       "    </tr>\n",
       "    <tr>\n",
       "      <th>4</th>\n",
       "      <td>2016-11-03</td>\n",
       "      <td>0</td>\n",
       "      <td>2.0</td>\n",
       "      <td>None</td>\n",
       "      <td>98.0</td>\n",
       "      <td>Stephen</td>\n",
       "      <td>2014-07-21</td>\n",
       "      <td>M</td>\n",
       "      <td>866.428571</td>\n",
       "      <td>30.5</td>\n",
       "      <td>515553</td>\n",
       "      <td>False</td>\n",
       "      <td>False</td>\n",
       "      <td>None</td>\n",
       "      <td>0.0</td>\n",
       "    </tr>\n",
       "  </tbody>\n",
       "</table>\n",
       "</div>"
      ],
      "text/plain": [
       "  SESSION_DATE  SniffTime  age ReadTotalSnifftime  id_rat rat_name birth_date  \\\n",
       "0   2016-11-03          0  2.0               None    98.0  Stephen 2014-07-21   \n",
       "1   2016-11-03          0  2.0               None    98.0  Stephen 2014-07-21   \n",
       "2   2016-11-03          0  2.0               None    98.0  Stephen 2014-07-21   \n",
       "3   2016-11-03          0  2.0               None    98.0  Stephen 2014-07-21   \n",
       "4   2016-11-03          0  2.0               None    98.0  Stephen 2014-07-21   \n",
       "\n",
       "  gender      weight  temperature  id_sample     tb    hit match_flag  \\\n",
       "0      M  866.428571         30.5     515562  False  False       None   \n",
       "1      M  866.428571         30.5     515546  False  False       None   \n",
       "2      M  866.428571         30.5     515422  False  False       None   \n",
       "3      M  866.428571         30.5     515559  False  False       None   \n",
       "4      M  866.428571         30.5     515553  False  False       None   \n",
       "\n",
       "   SniffThreshold'  \n",
       "0              0.0  \n",
       "1              0.0  \n",
       "2              0.0  \n",
       "3              0.0  \n",
       "4              0.0  "
      ]
     },
     "execution_count": 9,
     "metadata": {},
     "output_type": "execute_result"
    }
   ],
   "source": [
    "df_linec_filled.head()"
   ]
  },
  {
   "cell_type": "code",
   "execution_count": 10,
   "id": "6c64940d",
   "metadata": {},
   "outputs": [
    {
     "name": "stdout",
     "output_type": "stream",
     "text": [
      "Number of missing WEIGHT entries after filling: 205370\n"
     ]
    }
   ],
   "source": [
    "# check if any weights are still missing\n",
    "missing_weights = df_linec_filled['weight'].isnull().sum()\n",
    "print(f\"Number of missing WEIGHT entries after filling: {missing_weights}\")"
   ]
  },
  {
   "cell_type": "code",
   "execution_count": 11,
   "id": "aae6d835",
   "metadata": {},
   "outputs": [
    {
     "data": {
      "application/vnd.microsoft.datawrangler.viewer.v0+json": {
       "columns": [
        {
         "name": "index",
         "rawType": "int64",
         "type": "integer"
        },
        {
         "name": "age",
         "rawType": "float64",
         "type": "float"
        },
        {
         "name": "gender",
         "rawType": "object",
         "type": "string"
        },
        {
         "name": "temperature",
         "rawType": "float64",
         "type": "float"
        },
        {
         "name": "weight",
         "rawType": "float64",
         "type": "float"
        },
        {
         "name": "tb",
         "rawType": "bool",
         "type": "boolean"
        },
        {
         "name": "hit",
         "rawType": "bool",
         "type": "boolean"
        }
       ],
       "ref": "5b01222a-e845-431d-aa35-e4d768292a3f",
       "rows": [
        [
         "0",
         "2.0",
         "M",
         "30.5",
         "866.4285714285714",
         "False",
         "False"
        ],
        [
         "1",
         "2.0",
         "M",
         "30.5",
         "866.4285714285714",
         "False",
         "False"
        ],
        [
         "2",
         "2.0",
         "M",
         "30.5",
         "866.4285714285714",
         "False",
         "False"
        ],
        [
         "3",
         "2.0",
         "M",
         "30.5",
         "866.4285714285714",
         "False",
         "False"
        ],
        [
         "4",
         "2.0",
         "M",
         "30.5",
         "866.4285714285714",
         "False",
         "False"
        ]
       ],
       "shape": {
        "columns": 6,
        "rows": 5
       }
      },
      "text/html": [
       "<div>\n",
       "<style scoped>\n",
       "    .dataframe tbody tr th:only-of-type {\n",
       "        vertical-align: middle;\n",
       "    }\n",
       "\n",
       "    .dataframe tbody tr th {\n",
       "        vertical-align: top;\n",
       "    }\n",
       "\n",
       "    .dataframe thead th {\n",
       "        text-align: right;\n",
       "    }\n",
       "</style>\n",
       "<table border=\"1\" class=\"dataframe\">\n",
       "  <thead>\n",
       "    <tr style=\"text-align: right;\">\n",
       "      <th></th>\n",
       "      <th>age</th>\n",
       "      <th>gender</th>\n",
       "      <th>temperature</th>\n",
       "      <th>weight</th>\n",
       "      <th>tb</th>\n",
       "      <th>hit</th>\n",
       "    </tr>\n",
       "  </thead>\n",
       "  <tbody>\n",
       "    <tr>\n",
       "      <th>0</th>\n",
       "      <td>2.0</td>\n",
       "      <td>M</td>\n",
       "      <td>30.5</td>\n",
       "      <td>866.428571</td>\n",
       "      <td>False</td>\n",
       "      <td>False</td>\n",
       "    </tr>\n",
       "    <tr>\n",
       "      <th>1</th>\n",
       "      <td>2.0</td>\n",
       "      <td>M</td>\n",
       "      <td>30.5</td>\n",
       "      <td>866.428571</td>\n",
       "      <td>False</td>\n",
       "      <td>False</td>\n",
       "    </tr>\n",
       "    <tr>\n",
       "      <th>2</th>\n",
       "      <td>2.0</td>\n",
       "      <td>M</td>\n",
       "      <td>30.5</td>\n",
       "      <td>866.428571</td>\n",
       "      <td>False</td>\n",
       "      <td>False</td>\n",
       "    </tr>\n",
       "    <tr>\n",
       "      <th>3</th>\n",
       "      <td>2.0</td>\n",
       "      <td>M</td>\n",
       "      <td>30.5</td>\n",
       "      <td>866.428571</td>\n",
       "      <td>False</td>\n",
       "      <td>False</td>\n",
       "    </tr>\n",
       "    <tr>\n",
       "      <th>4</th>\n",
       "      <td>2.0</td>\n",
       "      <td>M</td>\n",
       "      <td>30.5</td>\n",
       "      <td>866.428571</td>\n",
       "      <td>False</td>\n",
       "      <td>False</td>\n",
       "    </tr>\n",
       "  </tbody>\n",
       "</table>\n",
       "</div>"
      ],
      "text/plain": [
       "   age gender  temperature      weight     tb    hit\n",
       "0  2.0      M         30.5  866.428571  False  False\n",
       "1  2.0      M         30.5  866.428571  False  False\n",
       "2  2.0      M         30.5  866.428571  False  False\n",
       "3  2.0      M         30.5  866.428571  False  False\n",
       "4  2.0      M         30.5  866.428571  False  False"
      ]
     },
     "execution_count": 11,
     "metadata": {},
     "output_type": "execute_result"
    }
   ],
   "source": [
    "# delete all columns but Birthdate, Gender, WEIGHT and TB\n",
    "df_linec_filled = df_linec_filled[['age', 'gender','temperature', 'weight', 'tb', 'hit']]\n",
    "df_linec_filled.head()"
   ]
  },
  {
   "cell_type": "code",
   "execution_count": 13,
   "id": "9e9062a6",
   "metadata": {},
   "outputs": [],
   "source": [
    "\n",
    "# Convert 'gender' to binary if it's not already numeric\n",
    "if df_linec_filled['gender'].dtype == 'object':\n",
    "    df_linec_filled['gender'] = df_linec_filled['gender'].map({'F': 0, 'M': 1})\n"
   ]
  },
  {
   "cell_type": "code",
   "execution_count": 15,
   "id": "12f89d40",
   "metadata": {},
   "outputs": [],
   "source": [
    "# Create the 'correct_prediction' column\n",
    "df_linec_filled[\"correct_prediction\"] = (df_linec_filled[\"tb\"] == df_linec_filled[\"hit\"]).astype(int)\n"
   ]
  },
  {
   "cell_type": "markdown",
   "id": "02aadbff",
   "metadata": {},
   "source": [
    "# 3. Visualisations\n"
   ]
  },
  {
   "cell_type": "code",
   "execution_count": 21,
   "id": "73b9f180",
   "metadata": {},
   "outputs": [
    {
     "data": {
      "image/png": "[encoded data removed]",
      "text/plain": [
       "<Figure size 640x480 with 1 Axes>"
      ]
     },
     "metadata": {},
     "output_type": "display_data"
    },
    {
     "data": {
      "image/png": "[encoded data removed]",
      "text/plain": [
       "<Figure size 640x480 with 1 Axes>"
      ]
     },
     "metadata": {},
     "output_type": "display_data"
    }
   ],
   "source": [
    "import seaborn as sns\n",
    "import matplotlib.pyplot as plt\n",
    "\n",
    "# Pearson correlation\n",
    "pearson_corr = df_linec_filled.corr(method=\"pearson\")[\"correct_prediction\"].drop([\"correct_prediction\", \"hit\", \"tb\"])\n",
    "sns.barplot(x=pearson_corr.index, y=pearson_corr.values)\n",
    "plt.xticks(rotation=45)\n",
    "plt.title(\"Pearson Correlation with Prediction Correctness\")\n",
    "plt.tight_layout()\n",
    "plt.show()\n",
    "\n",
    "# Spearman correlation\n",
    "spearman_corr = df_linec_filled.corr(method=\"spearman\")[\"correct_prediction\"].drop([\"correct_prediction\", \"hit\", \"tb\"])\n",
    "sns.barplot(x=spearman_corr.index, y=spearman_corr.values)\n",
    "plt.xticks(rotation=45)\n",
    "plt.title(\"Spearman Correlation with Prediction Correctness\")\n",
    "plt.tight_layout()\n",
    "plt.show()"
   ]
  },
  {
   "cell_type": "code",
   "execution_count": 28,
   "id": "a00bcb1f",
   "metadata": {},
   "outputs": [
    {
     "data": {
      "image/png": "[encoded data removed]",
      "text/plain": [
       "<Figure size 1600x1200 with 4 Axes>"
      ]
     },
     "metadata": {},
     "output_type": "display_data"
    }
   ],
   "source": [
    "import pandas as pd\n",
    "import matplotlib.pyplot as plt\n",
    "import seaborn as sns\n",
    "\n",
    "# Create the correct_prediction column\n",
    "df_linec_filled[\"correct_prediction\"] = (df_linec_filled[\"tb\"] == df_linec_filled[\"hit\"]).astype(int)\n",
    "\n",
    "# Define demographic features to analyze\n",
    "demographic_features = [\"gender\", \"age\", \"temperature\", \"weight\"]\n",
    "\n",
    "# Set up the plotting area\n",
    "plt.figure(figsize=(16, 12))\n",
    "\n",
    "# Generate plots for each demographic feature\n",
    "for i, feature in enumerate(demographic_features, 1):\n",
    "    plt.subplot(2, 2, i)\n",
    "    \n",
    "    if df_linec_filled[feature].nunique() <= 10 or df_linec_filled[feature].dtype == \"object\":\n",
    "        # Use barplot for categorical or low-cardinality features\n",
    "        sns.barplot(x=feature, y=\"correct_prediction\", data=df_linec_filled)\n",
    "        plt.title(f\"Average Accuracy by {feature.capitalize()}\")\n",
    "        plt.ylabel(\"Accuracy\")\n",
    "        plt.xlabel(feature.capitalize())\n",
    "    else:\n",
    "        # Use boxplot for continuous features\n",
    "        sns.boxplot(x=\"correct_prediction\", y=feature, data=df_linec_filled)\n",
    "        plt.title(f\"{feature.capitalize()} Distribution by Prediction Accuracy\")\n",
    "        plt.xlabel(\"Correct Prediction\")\n",
    "        plt.ylabel(feature.capitalize())\n",
    "\n",
    "plt.tight_layout()\n",
    "plt.show()"
   ]
  },
  {
   "cell_type": "code",
   "execution_count": null,
   "id": "c19bac15",
   "metadata": {},
   "outputs": [],
   "source": [
    "\n",
    "def categorize_individuals(df):\n",
    "    categories = {\n",
    "        'high_recall': [],\n",
    "        'high_specificity': [],\n",
    "        'high_precision': [],\n",
    "        'low_false_negative_rate': []\n",
    "    }\n",
    "\n",
    "    individuals = df['rat_name'].unique()\n",
    "\n",
    "    for person in individuals:\n",
    "        sub_df = df[df['rat_name'] == person]\n",
    "        y_true = sub_df['tb']\n",
    "        y_pred = sub_df['hit']\n",
    "\n",
    "        # Compute confusion matrix\n",
    "        tn, fp, fn, tp = confusion_matrix(y_true, y_pred, labels=[0, 1]).ravel()\n",
    "\n",
    "        # Compute metrics\n",
    "        recall = tp / (tp + fn) if (tp + fn) > 0 else 0\n",
    "        specificity = tn / (tn + fp) if (tn + fp) > 0 else 0\n",
    "        precision = tp / (tp + fp) if (tp + fp) > 0 else 0\n",
    "        false_negative_rate = fn / (fn + tp) if (fn + tp) > 0 else 1\n",
    "\n",
    "        # Categorize based on thresholds\n",
    "        if recall >= 0.8:\n",
    "            categories['high_recall'].append(person)\n",
    "        if specificity >= 0.8:\n",
    "            categories['high_specificity'].append(person)\n",
    "        if precision >= 0.8:\n",
    "            categories['high_precision'].append(person)\n",
    "        if false_negative_rate <= 0.2:\n",
    "            categories['low_false_negative_rate'].append(person)\n",
    "\n",
    "    return categories\n"
   ]
  }
 ],
 "metadata": {
  "kernelspec": {
   "display_name": ".venv (3.12.10)",
   "language": "python",
   "name": "python3"
  },
  "language_info": {
   "codemirror_mode": {
    "name": "ipython",
    "version": 3
   },
   "file_extension": ".py",
   "mimetype": "text/x-python",
   "name": "python",
   "nbconvert_exporter": "python",
   "pygments_lexer": "ipython3",
   "version": "3.12.10"
  }
 },
 "nbformat": 4,
 "nbformat_minor": 5
}
